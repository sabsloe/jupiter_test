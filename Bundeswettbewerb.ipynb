{
 "cells": [
  {
   "cell_type": "markdown",
   "metadata": {},
   "source": [
    "# Bundeswettbewerb KI\n",
    "## Kennenlernen der Daten"
   ]
  },
  {
   "cell_type": "code",
   "execution_count": 1,
   "metadata": {},
   "outputs": [],
   "source": [
    "import numpy as np"
   ]
  },
  {
   "cell_type": "markdown",
   "metadata": {},
   "source": [
    "Lädt die Daten"
   ]
  },
  {
   "cell_type": "code",
   "execution_count": 5,
   "metadata": {},
   "outputs": [],
   "source": [
    "D = np.load('train_data.npy')"
   ]
  },
  {
   "cell_type": "markdown",
   "metadata": {},
   "source": [
    "Gibt die Anzahl der Datensätze und die Anzahl der Merkmale aus"
   ]
  },
  {
   "cell_type": "code",
   "execution_count": 8,
   "metadata": {},
   "outputs": [
    {
     "name": "stdout",
     "output_type": "stream",
     "text": [
      "(426, 14)\n"
     ]
    }
   ],
   "source": [
    "print(D.shape)"
   ]
  },
  {
   "cell_type": "markdown",
   "metadata": {},
   "source": [
    "Stellt die Daten mit Hilfe eines Histogramms dar"
   ]
  },
  {
   "cell_type": "code",
   "execution_count": 86,
   "metadata": {},
   "outputs": [
    {
     "name": "stdout",
     "output_type": "stream",
     "text": [
      "Populating the interactive namespace from numpy and matplotlib\n"
     ]
    },
    {
     "name": "stderr",
     "output_type": "stream",
     "text": [
      "C:\\Users\\Sabine\\Anaconda3\\lib\\site-packages\\IPython\\core\\magics\\pylab.py:160: UserWarning: pylab import has clobbered these variables: ['sum', 'cla']\n",
      "`%matplotlib` prevents importing * from pylab and numpy\n",
      "  \"\\n`%matplotlib` prevents importing * from pylab and numpy\"\n"
     ]
    },
    {
     "data": {
      "image/png": "[encoded data removed]",
      "text/plain": [
       "<matplotlib.figure.Figure at 0x136ca0ba278>"
      ]
     },
     "metadata": {},
     "output_type": "display_data"
    }
   ],
   "source": [
    "%pylab inline\n",
    "hist(D[:, 7])\n",
    "show()"
   ]
  },
  {
   "cell_type": "markdown",
   "metadata": {},
   "source": [
    "Berechnet den Durchschnitt über einen Wert"
   ]
  },
  {
   "cell_type": "code",
   "execution_count": 12,
   "metadata": {},
   "outputs": [
    {
     "data": {
      "text/plain": [
       "141.50835065035017"
      ]
     },
     "execution_count": 12,
     "metadata": {},
     "output_type": "execute_result"
    }
   ],
   "source": [
    "np.mean(D[:,7])"
   ]
  },
  {
   "cell_type": "markdown",
   "metadata": {},
   "source": [
    "Filtert Datensätze"
   ]
  },
  {
   "cell_type": "code",
   "execution_count": 87,
   "metadata": {},
   "outputs": [],
   "source": [
    "krank = D[D[:, 13] == 1]"
   ]
  },
  {
   "cell_type": "code",
   "execution_count": 88,
   "metadata": {},
   "outputs": [],
   "source": [
    "gesund = D[D[:, 13] == 0]"
   ]
  },
  {
   "cell_type": "code",
   "execution_count": 91,
   "metadata": {},
   "outputs": [
    {
     "data": {
      "image/png": "[encoded data removed]",
      "text/plain": [
       "<matplotlib.figure.Figure at 0x136ca1f60f0>"
      ]
     },
     "metadata": {},
     "output_type": "display_data"
    }
   ],
   "source": [
    "hist(krank[:, 9])\n",
    "show()"
   ]
  },
  {
   "cell_type": "code",
   "execution_count": 92,
   "metadata": {},
   "outputs": [
    {
     "data": {
      "image/png": "[encoded data removed]",
      "text/plain": [
       "<matplotlib.figure.Figure at 0x136ca25beb8>"
      ]
     },
     "metadata": {},
     "output_type": "display_data"
    }
   ],
   "source": [
    "hist(gesund[:, 9])\n",
    "show()"
   ]
  },
  {
   "cell_type": "code",
   "execution_count": 94,
   "metadata": {},
   "outputs": [
    {
     "data": {
      "image/png": "[encoded data removed]",
      "text/plain": [
       "<matplotlib.figure.Figure at 0x136ca33bf60>"
      ]
     },
     "metadata": {},
     "output_type": "display_data"
    }
   ],
   "source": [
    "hist(krank[:, 7])\n",
    "show()"
   ]
  },
  {
   "cell_type": "code",
   "execution_count": 93,
   "metadata": {},
   "outputs": [
    {
     "data": {
      "image/png": "[encoded data removed]",
      "text/plain": [
       "<matplotlib.figure.Figure at 0x136ca2c27f0>"
      ]
     },
     "metadata": {},
     "output_type": "display_data"
    }
   ],
   "source": [
    "hist(gesund[:, 7])\n",
    "show()"
   ]
  },
  {
   "cell_type": "code",
   "execution_count": 18,
   "metadata": {},
   "outputs": [
    {
     "data": {
      "text/plain": [
       "130.76991093326447"
      ]
     },
     "execution_count": 18,
     "metadata": {},
     "output_type": "execute_result"
    }
   ],
   "source": [
    "np.mean(krank[:,7])"
   ]
  },
  {
   "cell_type": "code",
   "execution_count": 19,
   "metadata": {},
   "outputs": [],
   "source": [
    "def constant_classifier(features):\n",
    "    \"\"\"Klassifiziert jeden Hund als krank.\n",
    "\n",
    "    Args:\n",
    "        features (numpy.ndarray): Vektor mit den Eigenschaften eines Hundes:\n",
    "            - pro Eigenschaft ein Wert\n",
    "\n",
    "    Returns:\n",
    "        int: 0 bedeutet, der Hund ist gesund,\n",
    "            1 bedeutet, der Hund ist krank.\n",
    "    \"\"\"\n",
    "    c = 1\n",
    "    # gib zurück, dass der Hund krank ist\n",
    "    return c"
   ]
  },
  {
   "cell_type": "code",
   "execution_count": 74,
   "metadata": {},
   "outputs": [],
   "source": [
    "def random_classifier(features):\n",
    "    c = np.random.randint(2)  # ziehe zufällig 0 oder 1\n",
    "    return c"
   ]
  },
  {
   "cell_type": "code",
   "execution_count": 69,
   "metadata": {},
   "outputs": [],
   "source": [
    "def classifier_using_heartrate(D):\n",
    "    \"\"\"Klassifizierer anhand der Herzfrequenz.\n",
    "    Args:\n",
    "        D (numpy.ndarray): Datenmatrix:\n",
    "            - pro Hund eine Zeile (erster Index)\n",
    "            - pro Eigenschaft eine Spalte (zweiter Index)\n",
    "\n",
    "    Returns:\n",
    "        function: Klassifiziert Vektoren mit Merkmalen.\n",
    "    \"\"\"\n",
    "    # Schwellenwert wird gesetzt\n",
    "    median_threshold = np.median(D[:, 7])\n",
    "\n",
    "    def heart_rate_based_classifier(features, threshold=median_threshold):\n",
    "        \"\"\"Klassifiziert jeden Hunde anhand der Herzfrequenz.\n",
    "\n",
    "        Args:\n",
    "            features (numpy.ndarray): Vektor mit den Eigenschaften eines Hundes:\n",
    "                - pro Eigenschaft ein Wert\n",
    "            threshold (float): Schwellenwert zum Unterscheiden des Gesundheitszustands.\n",
    "\n",
    "        Returns:\n",
    "            int: 0 bedeutet, der Hund ist gesund,\n",
    "                1 bedeutet, der Hund ist krank.\n",
    "        \"\"\"\n",
    "        if (features[7]<threshold):\n",
    "            c=1\n",
    "        else:\n",
    "            c=0\n",
    "       \n",
    "        return c\n",
    "\n",
    "    return heart_rate_based_classifier"
   ]
  },
  {
   "cell_type": "code",
   "execution_count": 70,
   "metadata": {},
   "outputs": [],
   "source": [
    "def accuracy(D, classifier):\n",
    "    \"\"\"Berechnung der Accuracy eines Klassifizierers.\n",
    "\n",
    "    Args:\n",
    "        D (numpy.ndarray): Datenmatrix:\n",
    "            - pro Hund eine Zeile (erster Index)\n",
    "            - pro Eigenschaft eine Spalte (zweiter Index)\n",
    "        classifier (function): Ein beliebiger Klassifizierer.\n",
    "\n",
    "    Returns:\n",
    "        float: Accuracy des Klassifizierers. (1 bedeutet, dass\n",
    "            alles richtig klassifiziert wurde, 0.5 heißt, dass\n",
    "            die Hälfte richtig klassifiziert wurde, bei 0 wurde\n",
    "            alles falsch klassifiziert.)\n",
    "    \"\"\"\n",
    "    correct = []\n",
    "    for k, feature in enumerate(D[:]):\n",
    "        if D[k,13] == classifier(feature):\n",
    "            correct.append(1)\n",
    "        else:\n",
    "            correct.append(0)\n",
    "    acc=np.mean(correct)\n",
    "    return acc\n"
   ]
  },
  {
   "cell_type": "code",
   "execution_count": 71,
   "metadata": {},
   "outputs": [],
   "source": [
    "hc = classifier_using_heartrate(D)"
   ]
  },
  {
   "cell_type": "code",
   "execution_count": 73,
   "metadata": {},
   "outputs": [
    {
     "data": {
      "text/plain": [
       "0.715962441314554"
      ]
     },
     "execution_count": 73,
     "metadata": {},
     "output_type": "execute_result"
    }
   ],
   "source": [
    "accuracy(D,hc)"
   ]
  },
  {
   "cell_type": "code",
   "execution_count": 147,
   "metadata": {},
   "outputs": [],
   "source": [
    "def lin_classifier(features, w1=1, w2=1.1, threshold=0.3):\n",
    "    \"\"\"Klassifiziert jeden Hunde anhand der Herzfrequenz.\n",
    "\n",
    "        Args:\n",
    "            features (numpy.ndarray): Vektor mit den Eigenschaften eines Hundes:\n",
    "                - pro Eigenschaft ein Wert\n",
    "            w1 (float): Gewichtet die Herzfrequenz.\n",
    "            w2 (float): Gewichtet die ST Depression.\n",
    "            threshold (float): Grenzwert zum unterscheiden des Gesundheitszustands.\n",
    "\n",
    "        Returns:\n",
    "            int: 0 bedeutet, der Hund ist gesund,\n",
    "                1 bedeutet, der Hund ist krank.\n",
    "        \"\"\"\n",
    "    \n",
    "    wert = w1*(features[7]-50)/150-w2*(features[9]+2)/10\n",
    "    if wert < threshold:\n",
    "        c = 1\n",
    "    else:\n",
    "        c = 0\n",
    "  \n",
    "    return c"
   ]
  },
  {
   "cell_type": "code",
   "execution_count": 95,
   "metadata": {},
   "outputs": [],
   "source": [
    "median_threshold = np.median(D[:, 9])\n"
   ]
  },
  {
   "cell_type": "code",
   "execution_count": 96,
   "metadata": {},
   "outputs": [
    {
     "name": "stdout",
     "output_type": "stream",
     "text": [
      "0.6\n"
     ]
    }
   ],
   "source": [
    "print(median_threshold)"
   ]
  },
  {
   "cell_type": "code",
   "execution_count": 148,
   "metadata": {},
   "outputs": [
    {
     "data": {
      "text/plain": [
       "0.7488262910798122"
      ]
     },
     "execution_count": 148,
     "metadata": {},
     "output_type": "execute_result"
    }
   ],
   "source": [
    "accuracy(D,lin_classifier)"
   ]
  },
  {
   "cell_type": "code",
   "execution_count": 97,
   "metadata": {},
   "outputs": [
    {
     "name": "stdout",
     "output_type": "stream",
     "text": [
      "408.33333333333337\n"
     ]
    }
   ],
   "source": [
    "print(245/0.6)"
   ]
  },
  {
   "cell_type": "code",
   "execution_count": 141,
   "metadata": {},
   "outputs": [],
   "source": [
    "def wertbestimmen(w1,w2):\n",
    "    wert1 = []\n",
    "    wert2 = []\n",
    "\n",
    "    for k, feature in enumerate(krank[:]):\n",
    "        wert1.append(w1*(feature[7]-50)/150-w2*(feature[9]+2)/10)\n",
    "    print(np.median(wert1))\n",
    "    \n",
    "    for k, feature in enumerate(gesund[:]):\n",
    "        wert2.append(w1*(feature[7]-50)/150-w2*(feature[9]+2)/10)\n",
    "    print(np.median(wert2))\n",
    "    \n",
    "    hist(wert1)\n",
    "    show()\n",
    "    hist(wert2)\n",
    "    show()\n",
    "    \n"
   ]
  },
  {
   "cell_type": "code",
   "execution_count": 144,
   "metadata": {},
   "outputs": [
    {
     "name": "stdout",
     "output_type": "stream",
     "text": [
      "0.17737179487179486\n",
      "0.46\n"
     ]
    },
    {
     "data": {
      "image/png": "[encoded data removed]",
      "text/plain": [
       "<matplotlib.figure.Figure at 0x136ca1ae898>"
      ]
     },
     "metadata": {},
     "output_type": "display_data"
    },
    {
     "data": {
      "image/png": "[encoded data removed]",
      "text/plain": [
       "<matplotlib.figure.Figure at 0x136c9d99ac8>"
      ]
     },
     "metadata": {},
     "output_type": "display_data"
    }
   ],
   "source": [
    "wertbestimmen(1,1.1)"
   ]
  },
  {
   "cell_type": "code",
   "execution_count": 138,
   "metadata": {},
   "outputs": [
    {
     "ename": "NameError",
     "evalue": "name 'wert1' is not defined",
     "output_type": "error",
     "traceback": [
      "\u001b[1;31m---------------------------------------------------------------------------\u001b[0m",
      "\u001b[1;31mNameError\u001b[0m                                 Traceback (most recent call last)",
      "\u001b[1;32m<ipython-input-138-4273d84c2c0e>\u001b[0m in \u001b[0;36m<module>\u001b[1;34m()\u001b[0m\n\u001b[1;32m----> 1\u001b[1;33m \u001b[0mhist\u001b[0m\u001b[1;33m(\u001b[0m\u001b[0mwert1\u001b[0m\u001b[1;33m)\u001b[0m\u001b[1;33m\u001b[0m\u001b[0m\n\u001b[0m\u001b[0;32m      2\u001b[0m \u001b[0mshow\u001b[0m\u001b[1;33m(\u001b[0m\u001b[1;33m)\u001b[0m\u001b[1;33m\u001b[0m\u001b[0m\n",
      "\u001b[1;31mNameError\u001b[0m: name 'wert1' is not defined"
     ]
    }
   ],
   "source": [
    "hist(wert1)\n",
    "show()"
   ]
  },
  {
   "cell_type": "code",
   "execution_count": 156,
   "metadata": {},
   "outputs": [],
   "source": [
    "def sigmoid(x):\n",
    "    \"\"\"Sigmoid Funktion\n",
    "    Args:\n",
    "        x (float): Wert auf den die Sigmoid-Funktion angewendet wird\n",
    "\n",
    "    Returns:\n",
    "         float: Transformier Wert.\n",
    "\n",
    "    Note:\n",
    "        Verwende die np.exp Funktion.\n",
    "    \"\"\"\n",
    "    sigm = 1/(1+np.exp(-x))\n",
    "    return sigm\n",
    "\n",
    "\n",
    "def p(features, w1, w2, b):\n",
    "    \"\"\"Wahrscheinlichkeit dass der Hund krank ist.\n",
    "\n",
    "    Args:\n",
    "        features (numpy.ndarray): Vektor mit den Eigenschaften eines Hundes:\n",
    "                - pro Eigenschaft ein Wert\n",
    "        w1 (float): Gewichtet die Herzfrequenz.\n",
    "        w2 (float): Gewichtet die ST Depression.\n",
    "        b (float): Verschiebung zum unterscheiden des Gesundheitszustands.\n",
    "\n",
    "        Returns:\n",
    "            int: 0 bedeutet, der Hund ist gesund,\n",
    "                1 bedeutet, der Hund ist krank.\n",
    "\n",
    "    \"\"\"\n",
    "    f = np.array([features[7], features[9]])\n",
    "    w = np.array([w1,w2])\n",
    "    prob = sigmoid(np.dot(f,w)+b)\n",
    "    return prob\n"
   ]
  },
  {
   "cell_type": "code",
   "execution_count": null,
   "metadata": {},
   "outputs": [],
   "source": [
    "  prob = sigmoid(w*features[7]+b)"
   ]
  },
  {
   "cell_type": "code",
   "execution_count": 176,
   "metadata": {},
   "outputs": [],
   "source": [
    "w=0.01\n",
    "herz = np.array([0,0,0,0,0,0,0,w,0,0,0,0,0,0])\n"
   ]
  },
  {
   "cell_type": "code",
   "execution_count": 179,
   "metadata": {},
   "outputs": [
    {
     "name": "stdout",
     "output_type": "stream",
     "text": [
      "[0.62245933 0.51998934 0.57199613 0.7047457  0.67260702 0.68568011\n",
      " 0.64565631 0.65248946 0.61538376 0.63413559]\n"
     ]
    }
   ],
   "source": [
    "erg = sigmoid(np.dot(D[:10],herz)-1)\n",
    "print(erg)\n"
   ]
  },
  {
   "cell_type": "code",
   "execution_count": 172,
   "metadata": {},
   "outputs": [
    {
     "name": "stdout",
     "output_type": "stream",
     "text": [
      "[0.62245933 0.51998934 0.57199613 0.7047457  0.67260702 0.68568011\n",
      " 0.64565631 0.65248946 0.61538376 0.63413559 0.61774787 0.62948311\n",
      " 0.60348325 0.67480527 0.65021855 0.67699586 0.6637387  0.64565631\n",
      " 0.5962827  0.67040116 0.60825903 0.65021855 0.64565631 0.67480527\n",
      " 0.57932425 0.64106741 0.67260702 0.53494295 0.67040116 0.53494295\n",
      " 0.62480647 0.64565631 0.64106741 0.6479408  0.68783133 0.68568011\n",
      " 0.549834   0.52996405 0.57932425 0.59145898 0.53494295 0.68568011\n",
      " 0.65021855 0.63876318 0.66596693 0.65701046 0.55724785 0.56954622\n",
      " 0.63876318 0.62714777 0.6637387  0.59868766 0.62948311 0.70682222\n",
      " 0.60825903 0.52248482 0.65248946 0.64106741 0.62714777 0.5621765\n",
      " 0.60348325 0.64565631 0.57688526 0.66818777 0.53245431 0.60348325\n",
      " 0.63413559 0.65701046 0.59868766 0.61538376 0.61774787 0.65248946\n",
      " 0.49750002 0.64106741 0.68352089 0.62480647 0.60108788 0.60348325\n",
      " 0.68997448 0.5274723  0.61774787 0.60587367 0.69423634 0.62245933\n",
      " 0.67260702 0.68997448 0.63645254 0.53742985 0.64565631 0.62010643\n",
      " 0.62480647 0.61063923 0.61301418 0.6791787  0.67260702 0.6479408\n",
      " 0.60348325 0.63876318 0.64106741 0.70266065 0.70056714 0.67699586\n",
      " 0.64336515 0.57444252 0.5962827  0.63645254 0.65021855 0.62245933\n",
      " 0.59868766 0.59868766 0.61301418 0.60825903 0.7109495  0.58904043\n",
      " 0.49250056 0.57932425 0.65701046 0.69423634 0.57932425 0.5670929\n",
      " 0.62245933 0.63181242 0.60587367 0.5274723  0.67699586 0.6791787\n",
      " 0.58175938 0.56463629 0.66818777 0.65248946 0.61538376 0.63181242\n",
      " 0.7349726  0.70266065 0.65701046 0.6479408  0.5621765  0.50749944\n",
      " 0.57444252 0.65926039 0.65475346 0.64336515 0.69846522 0.57688526\n",
      " 0.63181242 0.62714777 0.55971365 0.68783133 0.66818777 0.64565631\n",
      " 0.68568011 0.55477924 0.64565631 0.61063923 0.49000133 0.52248482\n",
      " 0.67480527 0.67040116 0.66818777 0.62480647 0.63645254 0.65021855\n",
      " 0.64106741 0.55477924 0.6791787  0.6637387  0.66596693 0.64336515\n",
      " 0.63645254 0.5938731  0.52996405 0.5274723  0.60587367 0.63876318\n",
      " 0.57932425 0.47003595 0.61538376 0.5124974  0.65021855 0.67480527\n",
      " 0.65926039 0.62245933 0.68568011 0.61063923 0.6479408  0.68783133\n",
      " 0.71909966 0.549834   0.72111518 0.61301418 0.65248946 0.55477924\n",
      " 0.60587367 0.5149955  0.53742985 0.5621765  0.57688526 0.62714777\n",
      " 0.65021855 0.5621765  0.64336515 0.63181242 0.67480527 0.58175938\n",
      " 0.6479408  0.61538376 0.57444252 0.56463629 0.63413559 0.63181242\n",
      " 0.66818777 0.69423634 0.6637387  0.65701046 0.64565631 0.65021855\n",
      " 0.67260702 0.62714777 0.55477924 0.69423634 0.67260702 0.66150316\n",
      " 0.68783133 0.4875026  0.66596693 0.71504211 0.60587367 0.67260702\n",
      " 0.51998934 0.57932425 0.66596693 0.54239794 0.56463629 0.55230791\n",
      " 0.65248946 0.53991488 0.50749944 0.60825903 0.65021855 0.65021855\n",
      " 0.62948311 0.65248946 0.65248946 0.61063923 0.49000133 0.42800387\n",
      " 0.63645254 0.54487889 0.6637387  0.59868766 0.56463629 0.5124974\n",
      " 0.5124974  0.63876318 0.6921095  0.67480527 0.60348325 0.53991488\n",
      " 0.60587367 0.60108788 0.62010643 0.62714777 0.67040116 0.66596693\n",
      " 0.5621765  0.5621765  0.63645254 0.58419052 0.6921095  0.62245933\n",
      " 0.5938731  0.5938731  0.549834   0.5621765  0.65021855 0.63413559\n",
      " 0.62714777 0.62714777 0.65475346 0.57688526 0.60587367 0.68783133\n",
      " 0.57444252 0.67699586 0.6479408  0.59868766 0.61301418 0.60825903\n",
      " 0.65248946 0.66596693 0.62245933 0.65926039 0.60825903 0.60825903\n",
      " 0.58904043 0.69423634 0.47502081 0.55724785 0.57932425 0.60108788\n",
      " 0.53742985 0.67699586 0.67480527 0.5670929  0.63181242 0.57444252\n",
      " 0.5621765  0.65926039 0.63645254 0.68783133 0.56954622 0.62245933\n",
      " 0.549834   0.60825903 0.68135373 0.56954622 0.49750002 0.55477924\n",
      " 0.61063923 0.59868766 0.5938731  0.58175938 0.53245431 0.549834\n",
      " 0.54487889 0.62010643 0.55971365 0.56954622 0.52497919 0.549834\n",
      " 0.63645254 0.5962827  0.5670929  0.48001066 0.50999867 0.66818777\n",
      " 0.65248946 0.40131234 0.56463629 0.549834   0.56954622 0.55477924\n",
      " 0.45512111 0.4875026  0.549834   0.53742985 0.55477924 0.549834\n",
      " 0.549834   0.58661758 0.60108788 0.63413559 0.52497919 0.62245933\n",
      " 0.62245933 0.63413559 0.48001066 0.45760206 0.49250056 0.49500017\n",
      " 0.49750002 0.45512111 0.5        0.61774787 0.50749944 0.55230791\n",
      " 0.61774787 0.57688526 0.549834   0.5        0.49500017 0.69423634\n",
      " 0.5938731  0.5        0.5124974  0.6791787  0.4850045  0.53742985\n",
      " 0.54735762 0.53742985 0.60587367 0.52497919 0.57444252 0.40854102\n",
      " 0.49750002 0.62010643 0.42555748 0.52497919 0.53245431 0.5124974\n",
      " 0.53742985 0.44275215 0.5124974  0.54239794 0.61063923 0.60587367\n",
      " 0.55724785 0.58419052 0.43045378 0.56954622 0.43045378 0.44522076\n",
      " 0.52248482 0.62010643 0.46505705 0.63181242 0.49500017 0.59868766\n",
      " 0.61063923 0.53494295 0.48250714 0.41824062 0.63181242 0.55477924\n",
      " 0.47502081 0.51998934 0.5621765  0.549834   0.58904043 0.57444252\n",
      " 0.5536857  0.48001066 0.63876318 0.53494295 0.55230791 0.55724785]\n"
     ]
    }
   ],
   "source": [
    "b=-1\n",
    "print(sigmoid(erg+b))\n"
   ]
  },
  {
   "cell_type": "code",
   "execution_count": 173,
   "metadata": {},
   "outputs": [
    {
     "name": "stdout",
     "output_type": "stream",
     "text": [
      "[1 2 3]\n"
     ]
    }
   ],
   "source": [
    "a = np.array([1,2,3])\n",
    "print(a)"
   ]
  },
  {
   "cell_type": "code",
   "execution_count": 174,
   "metadata": {},
   "outputs": [
    {
     "name": "stdout",
     "output_type": "stream",
     "text": [
      "[3 4 5]\n"
     ]
    }
   ],
   "source": [
    "print(a+2)"
   ]
  },
  {
   "cell_type": "code",
   "execution_count": null,
   "metadata": {},
   "outputs": [],
   "source": []
  }
 ],
 "metadata": {
  "kernelspec": {
   "display_name": "Python 3",
   "language": "python",
   "name": "python3"
  },
  "language_info": {
   "codemirror_mode": {
    "name": "ipython",
    "version": 3
   },
   "file_extension": ".py",
   "mimetype": "text/x-python",
   "name": "python",
   "nbconvert_exporter": "python",
   "pygments_lexer": "ipython3",
   "version": "3.6.4"
  }
 },
 "nbformat": 4,
 "nbformat_minor": 2
}
